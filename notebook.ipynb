{
 "cells": [
  {
   "cell_type": "markdown",
   "id": "937acf3c-c077-4ca6-8d90-8f6dd4d13c54",
   "metadata": {},
   "source": [
    "<center><img src=\"redpopcorn.jpg\"></center>"
   ]
  },
  {
   "cell_type": "markdown",
   "id": "5962b2cd-17bb-4ec9-b2d5-68537ca26860",
   "metadata": {},
   "source": [
    "**Netflix**! What started in 1997 as a DVD rental service has since exploded into one of the largest entertainment and media companies.\n",
    "\n",
    "Given the large number of movies and series available on the platform, it is a perfect opportunity to flex your exploratory data analysis skills and dive into the entertainment industry.\n",
    "\n",
    "You work for a production company that specializes in nostalgic styles. You want to do some research on movies released in the 1990's. You'll delve into Netflix data and perform exploratory data analysis to better understand this awesome movie decade!\n",
    "\n",
    "You have been supplied with the dataset `netflix_data.csv`, along with the following table detailing the column names and descriptions. Feel free to experiment further after submitting!\n",
    "\n",
    "## The data\n",
    "### **netflix_data.csv**\n",
    "| Column | Description |\n",
    "|--------|-------------|\n",
    "| `show_id` | The ID of the show |\n",
    "| `type` | Type of show |\n",
    "| `title` | Title of the show |\n",
    "| `director` | Director of the show |\n",
    "| `cast` | Cast of the show |\n",
    "| `country` | Country of origin |\n",
    "| `date_added` | Date added to Netflix |\n",
    "| `release_year` | Year of Netflix release |\n",
    "| `duration` | Duration of the show in minutes |\n",
    "| `description` | Description of the show |\n",
    "| `genre` | Show genre |"
   ]
  },
  {
   "cell_type": "markdown",
   "id": "095f083d",
   "metadata": {},
   "source": [
    "Purpose: Provided a CSV file containing Netflix data\n",
    "CSV file containing the following columns: \"Title\", \"Genre\", \"Rating\", \"Release Year\", \"Duration\", and \"Description\"\n",
    "I will perform an EDA (Exploratory Data Analysis) on the dataset to understand its structure and contents.\n"
   ]
  },
  {
   "cell_type": "code",
   "execution_count": 2,
   "id": "320a3abc-8a36-4b2b-baaf-473325363a4d",
   "metadata": {
    "executionCancelledAt": null,
    "executionTime": 35,
    "lastExecutedAt": 1746040928459,
    "lastExecutedByKernel": "8777d4ca-d799-48d8-b9cb-bc3da6e51649",
    "lastScheduledRunId": null,
    "lastSuccessfullyExecutedCode": "# Importing pandas and matplotlib\nimport pandas as pd\nimport matplotlib.pyplot as plt\n\n# Read in the Netflix CSV as a DataFrame\nnetflix_df = pd.read_csv(\"netflix_data.csv\")"
   },
   "outputs": [],
   "source": [
    "# Importing pandas and matplotlib\n",
    "import pandas as pd\n",
    "import matplotlib.pyplot as plt\n",
    "\n",
    "# Read in the Netflix CSV as a DataFrame\n",
    "netflix_df = pd.read_csv(\"netflix_data.csv\")"
   ]
  },
  {
   "cell_type": "code",
   "execution_count": 3,
   "id": "7fc24a7e",
   "metadata": {},
   "outputs": [
    {
     "name": "stdout",
     "output_type": "stream",
     "text": [
      "   show_id     type  title           director  \\\n",
      "1       s2    Movie   7:19  Jorge Michel Grau   \n",
      "2       s3    Movie  23:59       Gilbert Chan   \n",
      "3       s4    Movie      9        Shane Acker   \n",
      "4       s5    Movie     21     Robert Luketic   \n",
      "5       s6  TV Show     46        Serdar Akar   \n",
      "6       s7    Movie    122    Yasir Al Yasiri   \n",
      "7       s8    Movie    187     Kevin Reynolds   \n",
      "8       s9    Movie    706      Shravan Kumar   \n",
      "9      s10    Movie   1920       Vikram Bhatt   \n",
      "10     s11    Movie   1922       Zak Hilditch   \n",
      "\n",
      "                                                 cast        country  \\\n",
      "1   Demián Bichir, Héctor Bonilla, Oscar Serrano, ...         Mexico   \n",
      "2   Tedd Chan, Stella Chung, Henley Hii, Lawrence ...      Singapore   \n",
      "3   Elijah Wood, John C. Reilly, Jennifer Connelly...  United States   \n",
      "4   Jim Sturgess, Kevin Spacey, Kate Bosworth, Aar...  United States   \n",
      "5   Erdal Beşikçioğlu, Yasemin Allen, Melis Birkan...         Turkey   \n",
      "6   Amina Khalil, Ahmed Dawood, Tarek Lotfy, Ahmed...          Egypt   \n",
      "7   Samuel L. Jackson, John Heard, Kelly Rowan, Cl...  United States   \n",
      "8   Divya Dutta, Atul Kulkarni, Mohan Agashe, Anup...          India   \n",
      "9   Rajneesh Duggal, Adah Sharma, Indraneil Sengup...          India   \n",
      "10  Thomas Jane, Molly Parker, Dylan Schmid, Kaitl...  United States   \n",
      "\n",
      "           date_added  release_year  duration  \\\n",
      "1   December 23, 2016          2016        93   \n",
      "2   December 20, 2018          2011        78   \n",
      "3   November 16, 2017          2009        80   \n",
      "4     January 1, 2020          2008       123   \n",
      "5        July 1, 2017          2016         1   \n",
      "6        June 1, 2020          2019        95   \n",
      "7    November 1, 2019          1997       119   \n",
      "8       April 1, 2019          2019       118   \n",
      "9   December 15, 2017          2008       143   \n",
      "10   October 20, 2017          2017       103   \n",
      "\n",
      "                                          description             genre  \n",
      "1   After a devastating earthquake hits Mexico Cit...            Dramas  \n",
      "2   When an army recruit is found dead, his fellow...     Horror Movies  \n",
      "3   In a postapocalyptic world, rag-doll robots hi...            Action  \n",
      "4   A brilliant group of students become card-coun...            Dramas  \n",
      "5   A genetics professor experiments with a treatm...  International TV  \n",
      "6   After an awful accident, a couple admitted to ...     Horror Movies  \n",
      "7   After one of his high school students attacks ...            Dramas  \n",
      "8   When a doctor goes missing, his psychiatrist w...     Horror Movies  \n",
      "9   An architect and his wife move into a castle t...     Horror Movies  \n",
      "10  A farmer pens a confession admitting to his wi...            Dramas  \n",
      "\n",
      "\n",
      "Let's see how many rows and columns we have in the dataset\n",
      "The dataset contains 4812 rows and 11 columns.\n"
     ]
    }
   ],
   "source": [
    "#Some initial exploration of the dataset\n",
    "# use head, but have first row be 1, not 0\n",
    "netflix_df.index += 1\n",
    "print(netflix_df.head(10))\n",
    "\n",
    "print()\n",
    "print()\n",
    "\n",
    "\n",
    "print(\"Let's see how many rows and columns we have in the dataset\")\n",
    "\n",
    "# Check the shape of the DataFrame\n",
    "print(f\"The dataset contains {netflix_df.shape[0]} rows and {netflix_df.shape[1]} columns.\")\n",
    "\n"
   ]
  },
  {
   "cell_type": "markdown",
   "id": "72b0dd88",
   "metadata": {},
   "source": [
    "Next up, lets take a look for any data that may need cleaning, i.e., finding any nulls, missing, or redudant data\n",
    "\n"
   ]
  },
  {
   "cell_type": "code",
   "execution_count": 4,
   "id": "0da244be",
   "metadata": {},
   "outputs": [
    {
     "name": "stdout",
     "output_type": "stream",
     "text": [
      "Let's check for any null values in the dataset\n",
      "show_id         0\n",
      "type            0\n",
      "title           0\n",
      "director        0\n",
      "cast            0\n",
      "country         0\n",
      "date_added      0\n",
      "release_year    0\n",
      "duration        0\n",
      "description     0\n",
      "genre           0\n",
      "dtype: int64\n",
      "\n",
      "It seems there are no null values in the dataset\n",
      "Let's check for any duplicates in the dataset\n",
      "The dataset contains 0 duplicates.\n",
      "\n",
      "Any NA values in the dataset?\n",
      "show_id         0\n",
      "type            0\n",
      "title           0\n",
      "director        0\n",
      "cast            0\n",
      "country         0\n",
      "date_added      0\n",
      "release_year    0\n",
      "duration        0\n",
      "description     0\n",
      "genre           0\n",
      "dtype: int64\n",
      "\n",
      "It seems there are no NA values in the dataset\n"
     ]
    }
   ],
   "source": [
    "#any null values in the dataset?\n",
    "print(\"Let's check for any null values in the dataset\") \n",
    "print(netflix_df.isnull().sum())\n",
    "print(\"\\nIt seems there are no null values in the dataset\")\n",
    "\n",
    "#any duplicates in the dataset?\n",
    "print(\"Let's check for any duplicates in the dataset\")  \n",
    "print(f\"The dataset contains {netflix_df.duplicated().sum()} duplicates.\")\n",
    "print()\n",
    "\n",
    "print (\"Any NA values in the dataset?\")\n",
    "print(netflix_df.isna().sum())\n",
    "print(\"\\nIt seems there are no NA values in the dataset\")"
   ]
  },
  {
   "cell_type": "code",
   "execution_count": 5,
   "id": "72658473-114f-49eb-bd4e-cc03c710834a",
   "metadata": {
    "executionCancelledAt": null,
    "executionTime": 56,
    "lastExecutedAt": 1746040928515,
    "lastExecutedByKernel": "8777d4ca-d799-48d8-b9cb-bc3da6e51649",
    "lastScheduledRunId": null,
    "lastSuccessfullyExecutedCode": "# Start coding here! Use as many cells as you like\nnetflix_1990 = netflix_df[(netflix_df['release_year'] >= 1990) & (netflix_df['release_year'] <= 1999)]\nnetflix_1990\nduration = netflix_1990['duration'].mode() [0]\nduration\n#netflix_1990_common_duration = netflix_1990[netflix_1990['duration'] == duration]\n#netflix_1990_common_duration\n\n\naction = netflix_1990[netflix_1990['genre'] == \"Action\"]\naction\nshort_movie_count = len(action[action['duration'] < 90])\nshort_movie_count\n",
    "outputsMetadata": {
     "0": {
      "height": 50,
      "tableState": {
       "customFilter": {
        "const": {
         "type": "boolean",
         "valid": true,
         "value": true
        },
        "id": "b16af1be-dc36-450d-862f-6da89be0a07f",
        "nodeType": "const"
       }
      },
      "type": "dataFrame"
     }
    },
    "visualizeDataframe": false
   },
   "outputs": [
    {
     "data": {
      "text/plain": [
       "Text(-3, 10, 'Most common run time: 94')"
      ]
     },
     "execution_count": 5,
     "metadata": {},
     "output_type": "execute_result"
    },
    {
     "data": {
      "image/png": "[encoded data removed]",
      "text/plain": [
       "<Figure size 640x480 with 1 Axes>"
      ]
     },
     "metadata": {},
     "output_type": "display_data"
    }
   ],
   "source": [
    "# most common duration of movies released in the 1990s\n",
    "netflix_1990 = netflix_df[(netflix_df['release_year'] >= 1990) & (netflix_df['release_year'] <= 1999)]\n",
    "netflix_1990\n",
    "duration = netflix_1990['duration'].mode() [0]\n",
    "duration\n",
    "\n",
    "#create a histogram of the duration of movies released in the 1990s\n",
    "plt.hist(netflix_1990['duration'], bins=20, edgecolor='black')\n",
    "plt.title('Distribution of Movie Durations in the 1990s')\n",
    "\n",
    "#color the mode in red\n",
    "plt.axvline(duration, color='red', linestyle='dashed', linewidth=1)\n",
    "plt.text(duration + 1, 10, f'Mode: {duration}', color='red')\n",
    "\n",
    "\n",
    "#now lets create a dataframe of the most common year of release that had a running time of 90 minutes\n",
    "netflix_90 = netflix_df[netflix_df['duration'] == 90]\n",
    "\n",
    "\n",
    "#find mode of of genre for movies with 90 minutes duration from netflix_90\n",
    "genre = netflix_90['genre'].mode()[0]\n",
    "\n",
    "#count number of dramas with 90 minutes duration, put it below the histogram\n",
    "plt.text(-1, 15, f'Most common genre: {genre}', color='blue')\n",
    "drama_count = netflix_90[netflix_90['genre'] == genre].shape[0]\n",
    "plt.text(-1, 12, f'Number of dramas: {drama_count}', color='blue') \n",
    "plt.text(-3, 10, f'Most common run time: {duration}', color='blue') \n"
   ]
  },
  {
   "cell_type": "code",
   "execution_count": null,
   "id": "feeb02cd",
   "metadata": {},
   "outputs": [
    {
     "name": "stdout",
     "output_type": "stream",
     "text": [
      "The most common director in the dataset is: Raúl Campos, Jan Suter\n",
      "The most common director directed 18 movies in the dataset\n",
      "\n",
      "The movies directed by Raul Campos are: ['Alan Saldaña: Mi vida de pobre' 'Arango y Sanint: Ríase el show'\n",
      " 'Carlos Ballarta: Furia Ñera' 'Coco y Raulito: Carrusel de ternura'\n",
      " 'Daniel Sosa: Sosafado' 'Fernando Sanjiao: Hombre'\n",
      " 'Jani Dueñas: Grandes fracasos de ayer y hoy'\n",
      " 'Luciano Mellera: Infantiloide' 'Malena Pichot: Estupidez compleja'\n",
      " 'Mea Culpa' 'Natalia Valdebenito: El especial'\n",
      " \"Ricardo O'Farrill Abrazo Genial\" \"Ricardo O'Farrill: Abrazo navideño\"\n",
      " 'Ricardo Quevedo: Hay gente así' 'Sebastián Marcelo Wainraich'\n",
      " 'Sofía Niño de Rivera: Exposed' 'Sofía Niño de Rivera: Selección Natural'\n",
      " 'Todo lo que sería Lucas Lauriente'],\n",
      "\n"
     ]
    }
   ],
   "source": [
    "#Some other questions I'd like to answer\n",
    "#1. Is there a most common director in the dataset?\n",
    "#2. Is there a most common actor in the dataset?    \n",
    "#3. Is there a most common country in the dataset?\n",
    "\n",
    "#Lets start with answering the first question\n",
    "#find the most common director in the dataset\n",
    "most_common_director = netflix_df['director'].mode()[0]\n",
    "print(f\"The most common director in the dataset is: {most_common_director}\")\n",
    "#how many movies did they direct?\n",
    "most_common_director_count = netflix_df[netflix_df['director'] == most_common_director].shape[0]\n",
    "print(f\"The most common director directed {most_common_director_count} movies in the dataset\")\n",
    "print()\n",
    "\n",
    "#what were the movies Raul Campos directed?\n",
    "raul_campos_movies = netflix_df[netflix_df['director'] == 'Raúl Campos, Jan Suter']\n",
    "print(f\"The movies directed by Raul Campos are: {raul_campos_movies['title'].values}\")\n",
    "print()"
   ]
  },
  {
   "cell_type": "code",
   "execution_count": null,
   "id": "63c82e89",
   "metadata": {},
   "outputs": [
    {
     "name": "stdout",
     "output_type": "stream",
     "text": [
      "The most common actor in the dataset is: Samuel West\n",
      "The most common actor acted in 10 movies in the dataset\n",
      "\n",
      "The movies acted in by Samuel West are: ['Secrets of Althorp - The Spencers' 'Secrets of Chatsworth'\n",
      " \"Secrets of Henry VIII's Palace: Hampton Court\"\n",
      " \"Secrets of Her Majesty's Secret Service\" 'Secrets of Highclere Castle'\n",
      " 'Secrets of Scotland Yard' 'Secrets of Selfridges'\n",
      " 'Secrets of the Tower of London' 'Secrets of Underground London'\n",
      " 'Secrets of Westminster']\n"
     ]
    }
   ],
   "source": [
    "#now lets answer the second question\n",
    "#find the most common actor in the dataset\n",
    "most_common_actor = netflix_df['cast'].mode()[0]\n",
    "print(f\"The most common actor in the dataset is: {most_common_actor}\")\n",
    "\n",
    "#how many movies did they act in?\n",
    "most_common_actor_count = netflix_df[netflix_df['cast'] == most_common_actor].shape[0]\n",
    "print(f\"The most common actor acted in {most_common_actor_count} movies in the dataset\")\n",
    "print()\n",
    "\n",
    "#create a visualization of the most movies acted in by the most common actor\n",
    "most_common_actor_movies = netflix_df[netflix_df['cast'] == most_common_actor]\n",
    "print(f\"The movies acted in by {most_common_actor} are: {most_common_actor_movies['title'].values}\")"
   ]
  },
  {
   "cell_type": "code",
   "execution_count": 33,
   "id": "b880b6ea",
   "metadata": {},
   "outputs": [
    {
     "data": {
      "image/png": "[encoded data removed]",
      "text/plain": [
       "<Figure size 640x480 with 1 Axes>"
      ]
     },
     "metadata": {},
     "output_type": "display_data"
    }
   ],
   "source": [
    "# Calculate the number of actors in each movie\n",
    "netflix_df['num_actors'] = netflix_df['cast'].str.split(',').str.len()\n",
    "\n",
    "# Find the most common number of actors\n",
    "mostFrequentNumOfActors = netflix_df['num_actors'].mode()[0]\n",
    "\n",
    "# Plot a histogram of the number of actors in movies\n",
    "plt.hist(netflix_df['num_actors'], bins=10, edgecolor='black')\n",
    "plt.title('Distribution of Number of Actors in Movies')\n",
    "plt.xlabel('Number of Actors')\n",
    "plt.ylabel('Number of Movies')\n",
    "plt.xlim(0, 20)\n",
    "\n",
    "# Highlight the mode in red\n",
    "plt.axvline(mostFrequentNumOfActors, color='red', linestyle='dashed', linewidth=1)\n",
    "plt.text(mostFrequentNumOfActors + 0.5, plt.ylim()[1] * 0.9, f'Mode: {mostFrequentNumOfActors}', color='red')\n",
    "\n",
    "plt.show()"
   ]
  }
 ],
 "metadata": {
  "colab": {
   "name": "Welcome to DataCamp Workspaces.ipynb",
   "provenance": []
  },
  "editor": "DataLab",
  "kernelspec": {
   "display_name": "Python 3",
   "language": "python",
   "name": "python3"
  },
  "language_info": {
   "codemirror_mode": {
    "name": "ipython",
    "version": 3
   },
   "file_extension": ".py",
   "mimetype": "text/x-python",
   "name": "python",
   "nbconvert_exporter": "python",
   "pygments_lexer": "ipython3",
   "version": "3.9.13"
  }
 },
 "nbformat": 4,
 "nbformat_minor": 5
}
